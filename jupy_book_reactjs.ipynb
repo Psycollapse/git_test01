{
 "cells": [
  {
   "attachments": {},
   "cell_type": "markdown",
   "metadata": {},
   "source": [
    "# React CS6 Classes\n",
    "## Classes\n",
    "A Class is a type of function, but instead of using the keyword **function** to initiate it, we use the keyword **class**, and the properties are assigned inside a *constructor()* method.\n",
    "##### **Example**\n",
    "javascript class Car {\n",
    "  constructor(name) {\n",
    "    this.brand = name;\n",
    "  }\n",
    "}\n",
    "### Standard naming convention for classes <br>\n",
    "Notice the case of the class name. We have begun the name, \"Car\", with an uppercase character. This is a standard naming convention for classes."
   ]
  },
  {
   "cell_type": "code",
   "execution_count": null,
   "metadata": {},
   "outputs": [],
   "source": [
    "Create an object called \"mycar\" based on the Car class:\n",
    "\n",
    "class Car {\n",
    "  constructor(name) {\n",
    "    this.brand = name;\n",
    "  }\n",
    "}\n",
    "\n",
    "const mycar = new Car(\"Ford\");"
   ]
  },
  {
   "attachments": {},
   "cell_type": "markdown",
   "metadata": {},
   "source": [
    "### Adding methods to classes\n"
   ]
  },
  {
   "attachments": {},
   "cell_type": "markdown",
   "metadata": {},
   "source": [
    "#### Example"
   ]
  },
  {
   "cell_type": "code",
   "execution_count": null,
   "metadata": {},
   "outputs": [],
   "source": [
    "Create a method named \"present\":\n",
    "\n",
    "class Car {\n",
    "  constructor(name) {\n",
    "    this.brand = name;\n",
    "  }\n",
    "  \n",
    "  present() {\n",
    "    return 'I have a ' + this.brand;\n",
    "  }\n",
    "}\n",
    "\n",
    "const mycar = new Car(\"Ford\");\n",
    "mycar.present();"
   ]
  },
  {
   "attachments": {},
   "cell_type": "markdown",
   "metadata": {},
   "source": [
    "#### Class Inheritance\n",
    "To create a class inheritance, use the extends keyword.<br>\n",
    "A class created with a class inheritance inherits all the methods from another class:"
   ]
  },
  {
   "attachments": {},
   "cell_type": "markdown",
   "metadata": {},
   "source": [
    "#### Example\n",
    "Create a class named \"Model\" which will inherit the methods from the \"Car\" class:"
   ]
  },
  {
   "cell_type": "code",
   "execution_count": null,
   "metadata": {},
   "outputs": [],
   "source": [
    "class Car {\n",
    "  constructor(name) {\n",
    "    this.brand = name;\n",
    "  }\n",
    "\n",
    "  present() {\n",
    "    return 'I have a ' + this.brand;\n",
    "  }\n",
    "}\n",
    "\n",
    "class Model extends Car {\n",
    "  constructor(name, mod) {\n",
    "    super(name);\n",
    "    this.model = mod;\n",
    "  }  \n",
    "  show() {\n",
    "      return this.present() + ', it is a ' + this.model\n",
    "  }\n",
    "}\n",
    "const mycar = new Model(\"Ford\", \"Mustang\");\n",
    "mycar.show();"
   ]
  },
  {
   "attachments": {},
   "cell_type": "markdown",
   "metadata": {},
   "source": [
    "The **super( )** method refers to the parent class.\n",
    "\n",
    "By calling the **super( )** method in the constructor method, we call the parent's constructor method and get access to the parent's properties and methods."
   ]
  }
 ],
 "metadata": {
  "kernelspec": {
   "display_name": "Python 3.10.10 64-bit",
   "language": "python",
   "name": "python3"
  },
  "language_info": {
   "codemirror_mode": {
    "name": "ipython",
    "version": 3
   },
   "file_extension": ".py",
   "mimetype": "text/x-python",
   "name": "python",
   "nbconvert_exporter": "python",
   "pygments_lexer": "ipython3",
   "version": "3.10.10"
  },
  "orig_nbformat": 4,
  "vscode": {
   "interpreter": {
    "hash": "47e86e659cc4c7e7c8281f4dfa198d26eba569ed7d4f5779d5419dff2bd0d92c"
   }
  }
 },
 "nbformat": 4,
 "nbformat_minor": 2
}
